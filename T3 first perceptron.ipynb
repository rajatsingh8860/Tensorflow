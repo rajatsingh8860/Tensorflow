{
 "cells": [
  {
   "cell_type": "code",
   "execution_count": 23,
   "metadata": {},
   "outputs": [],
   "source": [
    "import tensorflow as tf\n",
    "import numpy as np"
   ]
  },
  {
   "cell_type": "code",
   "execution_count": 31,
   "metadata": {},
   "outputs": [
    {
     "name": "stdout",
     "output_type": "stream",
     "text": [
      "70.0\n",
      "\n",
      "\n",
      "[[ 151.34206    16.350077  388.8865    608.6048    352.7741  ]\n",
      " [3459.7646     91.09217  3473.6235   6712.5      6063.837   ]\n",
      " [4376.4536    651.9199   5359.3433   5139.0117    989.76587 ]\n",
      " [ 352.0436     11.403981   64.991936  176.13333    87.91559 ]\n",
      " [3641.5635   3926.063    1653.4989   1529.5879    535.74756 ]]\n"
     ]
    }
   ],
   "source": [
    "np.random.seed(101)\n",
    "tf.set_random_seed(101)\n",
    "m1=np.random.uniform(0,100,(5,5))\n",
    "m2=np.random.uniform(0,100,(5,1))\n",
    "sess=tf.InteractiveSession()\n",
    "p1=tf.placeholder(tf.float32)\n",
    "p2=tf.placeholder(tf.float32)\n",
    "add=p1+p2\n",
    "mul=p1*p2\n",
    "out1=sess.run(add,feed_dict={p1:20,p2:50})\n",
    "print(out1)\n",
    "print(\"\\n\")\n",
    "out2=sess.run(mul,feed_dict={p1:m1,p2:m2})\n",
    "print(out2)"
   ]
  },
  {
   "cell_type": "code",
   "execution_count": null,
   "metadata": {},
   "outputs": [],
   "source": []
  }
 ],
 "metadata": {
  "kernelspec": {
   "display_name": "Python 3.6 (Tensorflow)",
   "language": "python",
   "name": "tensorflow"
  },
  "language_info": {
   "codemirror_mode": {
    "name": "ipython",
    "version": 3
   },
   "file_extension": ".py",
   "mimetype": "text/x-python",
   "name": "python",
   "nbconvert_exporter": "python",
   "pygments_lexer": "ipython3",
   "version": "3.6.9"
  }
 },
 "nbformat": 4,
 "nbformat_minor": 2
}
