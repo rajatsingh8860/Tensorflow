{
 "cells": [
  {
   "cell_type": "code",
   "execution_count": 1,
   "metadata": {},
   "outputs": [],
   "source": [
    "import tensorflow as tf"
   ]
  },
  {
   "cell_type": "code",
   "execution_count": 4,
   "metadata": {},
   "outputs": [
    {
     "name": "stderr",
     "output_type": "stream",
     "text": [
      "C:\\Users\\rajat\\Anaconda3\\envs\\tensorflow\\lib\\site-packages\\tensorflow\\python\\client\\session.py:1702: UserWarning: An interactive session is already active. This can cause out-of-memory errors in some cases. You must explicitly call `InteractiveSession.close()` to release resources held by the other session(s).\n",
      "  warnings.warn('An interactive session is already active. This can '\n"
     ]
    },
    {
     "data": {
      "text/plain": [
       "b'Helloworld'"
      ]
     },
     "execution_count": 4,
     "metadata": {},
     "output_type": "execute_result"
    }
   ],
   "source": [
    "hello=tf.constant(\"Hello\")\n",
    "world=tf.constant(\"world\")\n",
    "sess=tf.InteractiveSession()\n",
    "sess.run(hello+world)"
   ]
  },
  {
   "cell_type": "code",
   "execution_count": 5,
   "metadata": {},
   "outputs": [
    {
     "data": {
      "text/plain": [
       "b'1020'"
      ]
     },
     "execution_count": 5,
     "metadata": {},
     "output_type": "execute_result"
    }
   ],
   "source": [
    "a=tf.constant(\"10\")\n",
    "b=tf.constant(\"20\")\n",
    "sess.run(a+b)"
   ]
  },
  {
   "cell_type": "code",
   "execution_count": 10,
   "metadata": {},
   "outputs": [
    {
     "name": "stdout",
     "output_type": "stream",
     "text": [
      "[[0. 0. 0. 0.]\n",
      " [0. 0. 0. 0.]\n",
      " [0. 0. 0. 0.]\n",
      " [0. 0. 0. 0.]]\n",
      "\n",
      "\n",
      "[1 1 1 1]\n",
      "\n",
      "\n",
      "[[ 0.627891    1.3342263  -0.7239888 ]\n",
      " [ 1.4473854   0.3442892  -0.02286964]\n",
      " [ 1.5951838  -1.8067439   0.05769742]]\n",
      "\n",
      "\n",
      "[[8.24811   6.8548307 6.277727 ]\n",
      " [3.5440023 4.5829873 7.0620584]\n",
      " [3.5126348 4.167851  6.545084 ]]\n",
      "\n",
      "\n"
     ]
    }
   ],
   "source": [
    "zero=tf.zeros((4,4))\n",
    "one=tf.ones(4,4)\n",
    "rand_n=tf.random_normal((3,3),mean=0,stddev=1.0)\n",
    "rand_u=tf.random_uniform((3,3),minval=2,maxval=9)\n",
    "op=[zero,one,rand_n,rand_u]\n",
    "for out in op:\n",
    "    print(sess.run(out))\n",
    "    print(\"\\n\")"
   ]
  },
  {
   "cell_type": "code",
   "execution_count": 15,
   "metadata": {},
   "outputs": [
    {
     "data": {
      "text/plain": [
       "array([[30],\n",
       "       [52]])"
      ]
     },
     "execution_count": 15,
     "metadata": {},
     "output_type": "execute_result"
    }
   ],
   "source": [
    "mat1=tf.constant([[2,3],[4,5]])\n",
    "mat2=tf.constant([[3],[8]])\n",
    "sess.run(tf.matmul(mat1,mat2))"
   ]
  },
  {
   "cell_type": "code",
   "execution_count": null,
   "metadata": {},
   "outputs": [],
   "source": []
  }
 ],
 "metadata": {
  "kernelspec": {
   "display_name": "Python 3.6 (Tensorflow)",
   "language": "python",
   "name": "tensorflow"
  },
  "language_info": {
   "codemirror_mode": {
    "name": "ipython",
    "version": 3
   },
   "file_extension": ".py",
   "mimetype": "text/x-python",
   "name": "python",
   "nbconvert_exporter": "python",
   "pygments_lexer": "ipython3",
   "version": "3.6.9"
  }
 },
 "nbformat": 4,
 "nbformat_minor": 2
}
